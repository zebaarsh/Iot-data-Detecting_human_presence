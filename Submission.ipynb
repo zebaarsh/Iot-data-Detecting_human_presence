{
 "cells": [
  {
   "cell_type": "markdown",
   "metadata": {},
   "source": [
    "                                        An important assumption\n",
    "**I do not have any raw data stream, therefore, in order to make any guess about how the black-box algorithm works I have to assume that even the Overall black-box contains all the four external black-boxes and individual Node's raw data is passed through it's corresponding black-box. This assumption enables us to compare individual streams provided in the data to the Overall Stream.**"
   ]
  },
  {
   "cell_type": "code",
   "execution_count": 2,
   "metadata": {},
   "outputs": [],
   "source": [
    "import matplotlib.pyplot as plt\n",
    "import numpy as np\n",
    "import pandas as pd\n",
    "import csv\n",
    "import seaborn; seaborn.set()\n",
    "%matplotlib inline"
   ]
  },
  {
   "cell_type": "code",
   "execution_count": 3,
   "metadata": {},
   "outputs": [],
   "source": [
    "df = pd.read_csv('sample_data.txt')\n",
    "df.columns = ['Timestamp','Stream1','Stream2','Stream3','Stream4','Overall','Truth']\n",
    "df1 = df\n"
   ]
  },
  {
   "cell_type": "code",
   "execution_count": 4,
   "metadata": {},
   "outputs": [],
   "source": [
    "#Removing brackets from timestamp\n",
    "for i in range(len(df1.Timestamp)):\n",
    "    df1.Timestamp[i] = df1.Timestamp[i].replace(\"[\",\"\")\n",
    "    df1.Timestamp[i] = df1.Timestamp[i].replace(\"]\",\"\")\n"
   ]
  },
  {
   "cell_type": "code",
   "execution_count": 5,
   "metadata": {},
   "outputs": [
    {
     "name": "stdout",
     "output_type": "stream",
     "text": [
      "<class 'pandas.core.frame.DataFrame'>\n",
      "DatetimeIndex: 8241 entries, 2016-07-05 20:01:32.470000 to 2016-07-05 20:18:21.356000\n",
      "Data columns (total 6 columns):\n",
      "Stream1    8241 non-null object\n",
      "Stream2    8241 non-null object\n",
      "Stream3    8241 non-null object\n",
      "Stream4    8241 non-null object\n",
      "Overall    8241 non-null object\n",
      "Truth      8241 non-null object\n",
      "dtypes: object(6)\n",
      "memory usage: 450.7+ KB\n"
     ]
    },
    {
     "data": {
      "text/html": [
       "<div>\n",
       "<style scoped>\n",
       "    .dataframe tbody tr th:only-of-type {\n",
       "        vertical-align: middle;\n",
       "    }\n",
       "\n",
       "    .dataframe tbody tr th {\n",
       "        vertical-align: top;\n",
       "    }\n",
       "\n",
       "    .dataframe thead th {\n",
       "        text-align: right;\n",
       "    }\n",
       "</style>\n",
       "<table border=\"1\" class=\"dataframe\">\n",
       "  <thead>\n",
       "    <tr style=\"text-align: right;\">\n",
       "      <th></th>\n",
       "      <th>Stream1</th>\n",
       "      <th>Stream2</th>\n",
       "      <th>Stream3</th>\n",
       "      <th>Stream4</th>\n",
       "      <th>Overall</th>\n",
       "      <th>Truth</th>\n",
       "    </tr>\n",
       "    <tr>\n",
       "      <th>Timestamp</th>\n",
       "      <th></th>\n",
       "      <th></th>\n",
       "      <th></th>\n",
       "      <th></th>\n",
       "      <th></th>\n",
       "      <th></th>\n",
       "    </tr>\n",
       "  </thead>\n",
       "  <tbody>\n",
       "    <tr>\n",
       "      <th>2016-07-05 20:01:32.470</th>\n",
       "      <td>False</td>\n",
       "      <td>False</td>\n",
       "      <td>False</td>\n",
       "      <td>False</td>\n",
       "      <td>False</td>\n",
       "      <td>False</td>\n",
       "    </tr>\n",
       "    <tr>\n",
       "      <th>2016-07-05 20:01:32.580</th>\n",
       "      <td>False</td>\n",
       "      <td>False</td>\n",
       "      <td>False</td>\n",
       "      <td>False</td>\n",
       "      <td>False</td>\n",
       "      <td>False</td>\n",
       "    </tr>\n",
       "    <tr>\n",
       "      <th>2016-07-05 20:01:32.727</th>\n",
       "      <td>False</td>\n",
       "      <td>False</td>\n",
       "      <td>False</td>\n",
       "      <td>False</td>\n",
       "      <td>False</td>\n",
       "      <td>False</td>\n",
       "    </tr>\n",
       "    <tr>\n",
       "      <th>2016-07-05 20:01:32.837</th>\n",
       "      <td>False</td>\n",
       "      <td>False</td>\n",
       "      <td>False</td>\n",
       "      <td>False</td>\n",
       "      <td>False</td>\n",
       "      <td>False</td>\n",
       "    </tr>\n",
       "    <tr>\n",
       "      <th>2016-07-05 20:01:32.947</th>\n",
       "      <td>False</td>\n",
       "      <td>False</td>\n",
       "      <td>False</td>\n",
       "      <td>False</td>\n",
       "      <td>False</td>\n",
       "      <td>False</td>\n",
       "    </tr>\n",
       "  </tbody>\n",
       "</table>\n",
       "</div>"
      ],
      "text/plain": [
       "                        Stream1 Stream2 Stream3 Stream4 Overall   Truth\n",
       "Timestamp                                                              \n",
       "2016-07-05 20:01:32.470   False   False   False   False   False   False\n",
       "2016-07-05 20:01:32.580   False   False   False   False   False   False\n",
       "2016-07-05 20:01:32.727   False   False   False   False   False   False\n",
       "2016-07-05 20:01:32.837   False   False   False   False   False   False\n",
       "2016-07-05 20:01:32.947   False   False   False   False   False   False"
      ]
     },
     "execution_count": 5,
     "metadata": {},
     "output_type": "execute_result"
    }
   ],
   "source": [
    "df1.Timestamp = pd.to_datetime(df1.Timestamp)\n",
    "df1.set_index('Timestamp', inplace=True)\n",
    "df1.info()\n",
    "df1.head()"
   ]
  },
  {
   "cell_type": "code",
   "execution_count": 6,
   "metadata": {},
   "outputs": [],
   "source": [
    "for i in range(len(df1.Stream1)):\n",
    "    df1.Stream1[i] = df1.Stream1[i].replace(\" \",\"\")\n",
    "    df1.Stream1[i] = (int)(df1.Stream1[i] == 'True')\n",
    "    \n",
    "for i in range(len(df1.Stream2)):\n",
    "    df1.Stream2[i] = df1.Stream2[i].replace(\" \",\"\")\n",
    "    df1.Stream2[i] = (int)(df1.Stream2[i] == 'True')\n",
    "    \n",
    "for i in range(len(df1.Stream3)):\n",
    "    df1.Stream3[i] = df1.Stream3[i].replace(\" \",\"\")\n",
    "    df1.Stream3[i] = (int)(df1.Stream3[i] == 'True')\n",
    "    \n",
    "for i in range(len(df1.Stream4)):\n",
    "    df1.Stream4[i] = df1.Stream4[i].replace(\" \",\"\")\n",
    "    df1.Stream4[i] = (int)(df1.Stream4[i] == 'True')\n",
    "\n",
    "for i in range(len(df1.Overall)):\n",
    "    df1.Overall[i] = df1.Overall[i].replace(\" \",\"\")\n",
    "    df1.Overall[i] = (int)(df1.Overall[i] == 'True')\n",
    "    \n",
    "for i in range(len(df1.Truth)):\n",
    "    df1.Truth[i] = df1.Truth[i].replace(\" \",\"\")\n",
    "    df1.Truth[i] = (int)(df1.Truth[i] == 'True')\n"
   ]
  },
  {
   "cell_type": "code",
   "execution_count": 7,
   "metadata": {},
   "outputs": [],
   "source": [
    "df1.to_csv('new_data.csv')"
   ]
  },
  {
   "cell_type": "code",
   "execution_count": 8,
   "metadata": {
    "scrolled": true
   },
   "outputs": [
    {
     "data": {
      "text/html": [
       "<div>\n",
       "<style scoped>\n",
       "    .dataframe tbody tr th:only-of-type {\n",
       "        vertical-align: middle;\n",
       "    }\n",
       "\n",
       "    .dataframe tbody tr th {\n",
       "        vertical-align: top;\n",
       "    }\n",
       "\n",
       "    .dataframe thead th {\n",
       "        text-align: right;\n",
       "    }\n",
       "</style>\n",
       "<table border=\"1\" class=\"dataframe\">\n",
       "  <thead>\n",
       "    <tr style=\"text-align: right;\">\n",
       "      <th></th>\n",
       "      <th>Stream1</th>\n",
       "      <th>Stream2</th>\n",
       "      <th>Stream3</th>\n",
       "      <th>Stream4</th>\n",
       "      <th>Overall</th>\n",
       "      <th>Truth</th>\n",
       "      <th>Minutes</th>\n",
       "    </tr>\n",
       "    <tr>\n",
       "      <th>Timestamp</th>\n",
       "      <th></th>\n",
       "      <th></th>\n",
       "      <th></th>\n",
       "      <th></th>\n",
       "      <th></th>\n",
       "      <th></th>\n",
       "      <th></th>\n",
       "    </tr>\n",
       "  </thead>\n",
       "  <tbody>\n",
       "    <tr>\n",
       "      <th>2016-07-05 20:01:32.470</th>\n",
       "      <td>0</td>\n",
       "      <td>0</td>\n",
       "      <td>0</td>\n",
       "      <td>0</td>\n",
       "      <td>0</td>\n",
       "      <td>0</td>\n",
       "      <td>1</td>\n",
       "    </tr>\n",
       "    <tr>\n",
       "      <th>2016-07-05 20:01:32.580</th>\n",
       "      <td>0</td>\n",
       "      <td>0</td>\n",
       "      <td>0</td>\n",
       "      <td>0</td>\n",
       "      <td>0</td>\n",
       "      <td>0</td>\n",
       "      <td>1</td>\n",
       "    </tr>\n",
       "    <tr>\n",
       "      <th>2016-07-05 20:01:32.727</th>\n",
       "      <td>0</td>\n",
       "      <td>0</td>\n",
       "      <td>0</td>\n",
       "      <td>0</td>\n",
       "      <td>0</td>\n",
       "      <td>0</td>\n",
       "      <td>1</td>\n",
       "    </tr>\n",
       "    <tr>\n",
       "      <th>2016-07-05 20:01:32.837</th>\n",
       "      <td>0</td>\n",
       "      <td>0</td>\n",
       "      <td>0</td>\n",
       "      <td>0</td>\n",
       "      <td>0</td>\n",
       "      <td>0</td>\n",
       "      <td>1</td>\n",
       "    </tr>\n",
       "    <tr>\n",
       "      <th>2016-07-05 20:01:32.947</th>\n",
       "      <td>0</td>\n",
       "      <td>0</td>\n",
       "      <td>0</td>\n",
       "      <td>0</td>\n",
       "      <td>0</td>\n",
       "      <td>0</td>\n",
       "      <td>1</td>\n",
       "    </tr>\n",
       "    <tr>\n",
       "      <th>2016-07-05 20:01:33.094</th>\n",
       "      <td>0</td>\n",
       "      <td>0</td>\n",
       "      <td>0</td>\n",
       "      <td>0</td>\n",
       "      <td>0</td>\n",
       "      <td>0</td>\n",
       "      <td>1</td>\n",
       "    </tr>\n",
       "    <tr>\n",
       "      <th>2016-07-05 20:01:33.205</th>\n",
       "      <td>0</td>\n",
       "      <td>0</td>\n",
       "      <td>0</td>\n",
       "      <td>0</td>\n",
       "      <td>0</td>\n",
       "      <td>0</td>\n",
       "      <td>1</td>\n",
       "    </tr>\n",
       "    <tr>\n",
       "      <th>2016-07-05 20:01:33.315</th>\n",
       "      <td>0</td>\n",
       "      <td>0</td>\n",
       "      <td>0</td>\n",
       "      <td>0</td>\n",
       "      <td>0</td>\n",
       "      <td>0</td>\n",
       "      <td>1</td>\n",
       "    </tr>\n",
       "    <tr>\n",
       "      <th>2016-07-05 20:01:33.462</th>\n",
       "      <td>0</td>\n",
       "      <td>0</td>\n",
       "      <td>0</td>\n",
       "      <td>0</td>\n",
       "      <td>0</td>\n",
       "      <td>0</td>\n",
       "      <td>1</td>\n",
       "    </tr>\n",
       "    <tr>\n",
       "      <th>2016-07-05 20:01:33.572</th>\n",
       "      <td>0</td>\n",
       "      <td>0</td>\n",
       "      <td>0</td>\n",
       "      <td>0</td>\n",
       "      <td>0</td>\n",
       "      <td>0</td>\n",
       "      <td>1</td>\n",
       "    </tr>\n",
       "    <tr>\n",
       "      <th>2016-07-05 20:01:33.683</th>\n",
       "      <td>0</td>\n",
       "      <td>0</td>\n",
       "      <td>0</td>\n",
       "      <td>0</td>\n",
       "      <td>0</td>\n",
       "      <td>0</td>\n",
       "      <td>1</td>\n",
       "    </tr>\n",
       "    <tr>\n",
       "      <th>2016-07-05 20:01:33.830</th>\n",
       "      <td>0</td>\n",
       "      <td>0</td>\n",
       "      <td>0</td>\n",
       "      <td>0</td>\n",
       "      <td>0</td>\n",
       "      <td>0</td>\n",
       "      <td>1</td>\n",
       "    </tr>\n",
       "    <tr>\n",
       "      <th>2016-07-05 20:01:33.940</th>\n",
       "      <td>0</td>\n",
       "      <td>0</td>\n",
       "      <td>0</td>\n",
       "      <td>0</td>\n",
       "      <td>0</td>\n",
       "      <td>0</td>\n",
       "      <td>1</td>\n",
       "    </tr>\n",
       "    <tr>\n",
       "      <th>2016-07-05 20:01:34.050</th>\n",
       "      <td>0</td>\n",
       "      <td>0</td>\n",
       "      <td>0</td>\n",
       "      <td>0</td>\n",
       "      <td>0</td>\n",
       "      <td>0</td>\n",
       "      <td>1</td>\n",
       "    </tr>\n",
       "    <tr>\n",
       "      <th>2016-07-05 20:01:34.197</th>\n",
       "      <td>0</td>\n",
       "      <td>0</td>\n",
       "      <td>0</td>\n",
       "      <td>0</td>\n",
       "      <td>0</td>\n",
       "      <td>0</td>\n",
       "      <td>1</td>\n",
       "    </tr>\n",
       "    <tr>\n",
       "      <th>2016-07-05 20:01:34.307</th>\n",
       "      <td>0</td>\n",
       "      <td>0</td>\n",
       "      <td>0</td>\n",
       "      <td>0</td>\n",
       "      <td>0</td>\n",
       "      <td>0</td>\n",
       "      <td>1</td>\n",
       "    </tr>\n",
       "    <tr>\n",
       "      <th>2016-07-05 20:01:34.417</th>\n",
       "      <td>0</td>\n",
       "      <td>0</td>\n",
       "      <td>0</td>\n",
       "      <td>0</td>\n",
       "      <td>0</td>\n",
       "      <td>0</td>\n",
       "      <td>1</td>\n",
       "    </tr>\n",
       "    <tr>\n",
       "      <th>2016-07-05 20:01:34.564</th>\n",
       "      <td>0</td>\n",
       "      <td>0</td>\n",
       "      <td>0</td>\n",
       "      <td>0</td>\n",
       "      <td>0</td>\n",
       "      <td>0</td>\n",
       "      <td>1</td>\n",
       "    </tr>\n",
       "    <tr>\n",
       "      <th>2016-07-05 20:01:34.675</th>\n",
       "      <td>0</td>\n",
       "      <td>0</td>\n",
       "      <td>0</td>\n",
       "      <td>0</td>\n",
       "      <td>0</td>\n",
       "      <td>0</td>\n",
       "      <td>1</td>\n",
       "    </tr>\n",
       "    <tr>\n",
       "      <th>2016-07-05 20:01:34.785</th>\n",
       "      <td>0</td>\n",
       "      <td>0</td>\n",
       "      <td>0</td>\n",
       "      <td>0</td>\n",
       "      <td>0</td>\n",
       "      <td>0</td>\n",
       "      <td>1</td>\n",
       "    </tr>\n",
       "    <tr>\n",
       "      <th>2016-07-05 20:01:34.932</th>\n",
       "      <td>0</td>\n",
       "      <td>0</td>\n",
       "      <td>0</td>\n",
       "      <td>0</td>\n",
       "      <td>0</td>\n",
       "      <td>0</td>\n",
       "      <td>1</td>\n",
       "    </tr>\n",
       "    <tr>\n",
       "      <th>2016-07-05 20:01:35.043</th>\n",
       "      <td>0</td>\n",
       "      <td>0</td>\n",
       "      <td>0</td>\n",
       "      <td>0</td>\n",
       "      <td>0</td>\n",
       "      <td>0</td>\n",
       "      <td>1</td>\n",
       "    </tr>\n",
       "    <tr>\n",
       "      <th>2016-07-05 20:01:35.153</th>\n",
       "      <td>0</td>\n",
       "      <td>0</td>\n",
       "      <td>0</td>\n",
       "      <td>0</td>\n",
       "      <td>0</td>\n",
       "      <td>0</td>\n",
       "      <td>1</td>\n",
       "    </tr>\n",
       "    <tr>\n",
       "      <th>2016-07-05 20:01:35.300</th>\n",
       "      <td>0</td>\n",
       "      <td>0</td>\n",
       "      <td>0</td>\n",
       "      <td>0</td>\n",
       "      <td>0</td>\n",
       "      <td>0</td>\n",
       "      <td>1</td>\n",
       "    </tr>\n",
       "    <tr>\n",
       "      <th>2016-07-05 20:01:35.410</th>\n",
       "      <td>0</td>\n",
       "      <td>0</td>\n",
       "      <td>0</td>\n",
       "      <td>0</td>\n",
       "      <td>0</td>\n",
       "      <td>0</td>\n",
       "      <td>1</td>\n",
       "    </tr>\n",
       "    <tr>\n",
       "      <th>2016-07-05 20:01:35.521</th>\n",
       "      <td>0</td>\n",
       "      <td>0</td>\n",
       "      <td>0</td>\n",
       "      <td>0</td>\n",
       "      <td>0</td>\n",
       "      <td>0</td>\n",
       "      <td>1</td>\n",
       "    </tr>\n",
       "    <tr>\n",
       "      <th>2016-07-05 20:01:35.667</th>\n",
       "      <td>0</td>\n",
       "      <td>0</td>\n",
       "      <td>0</td>\n",
       "      <td>0</td>\n",
       "      <td>0</td>\n",
       "      <td>0</td>\n",
       "      <td>1</td>\n",
       "    </tr>\n",
       "    <tr>\n",
       "      <th>2016-07-05 20:01:35.778</th>\n",
       "      <td>0</td>\n",
       "      <td>0</td>\n",
       "      <td>0</td>\n",
       "      <td>0</td>\n",
       "      <td>0</td>\n",
       "      <td>0</td>\n",
       "      <td>1</td>\n",
       "    </tr>\n",
       "    <tr>\n",
       "      <th>2016-07-05 20:01:35.888</th>\n",
       "      <td>0</td>\n",
       "      <td>0</td>\n",
       "      <td>0</td>\n",
       "      <td>0</td>\n",
       "      <td>0</td>\n",
       "      <td>0</td>\n",
       "      <td>1</td>\n",
       "    </tr>\n",
       "    <tr>\n",
       "      <th>2016-07-05 20:01:36.035</th>\n",
       "      <td>0</td>\n",
       "      <td>0</td>\n",
       "      <td>0</td>\n",
       "      <td>0</td>\n",
       "      <td>0</td>\n",
       "      <td>0</td>\n",
       "      <td>1</td>\n",
       "    </tr>\n",
       "    <tr>\n",
       "      <th>...</th>\n",
       "      <td>...</td>\n",
       "      <td>...</td>\n",
       "      <td>...</td>\n",
       "      <td>...</td>\n",
       "      <td>...</td>\n",
       "      <td>...</td>\n",
       "      <td>...</td>\n",
       "    </tr>\n",
       "    <tr>\n",
       "      <th>2016-07-05 20:18:18.748</th>\n",
       "      <td>0</td>\n",
       "      <td>0</td>\n",
       "      <td>0</td>\n",
       "      <td>0</td>\n",
       "      <td>0</td>\n",
       "      <td>0</td>\n",
       "      <td>18</td>\n",
       "    </tr>\n",
       "    <tr>\n",
       "      <th>2016-07-05 20:18:18.775</th>\n",
       "      <td>0</td>\n",
       "      <td>0</td>\n",
       "      <td>0</td>\n",
       "      <td>0</td>\n",
       "      <td>0</td>\n",
       "      <td>0</td>\n",
       "      <td>18</td>\n",
       "    </tr>\n",
       "    <tr>\n",
       "      <th>2016-07-05 20:18:18.807</th>\n",
       "      <td>0</td>\n",
       "      <td>0</td>\n",
       "      <td>0</td>\n",
       "      <td>0</td>\n",
       "      <td>0</td>\n",
       "      <td>0</td>\n",
       "      <td>18</td>\n",
       "    </tr>\n",
       "    <tr>\n",
       "      <th>2016-07-05 20:18:18.834</th>\n",
       "      <td>0</td>\n",
       "      <td>0</td>\n",
       "      <td>0</td>\n",
       "      <td>0</td>\n",
       "      <td>0</td>\n",
       "      <td>0</td>\n",
       "      <td>18</td>\n",
       "    </tr>\n",
       "    <tr>\n",
       "      <th>2016-07-05 20:18:18.869</th>\n",
       "      <td>0</td>\n",
       "      <td>0</td>\n",
       "      <td>0</td>\n",
       "      <td>0</td>\n",
       "      <td>0</td>\n",
       "      <td>0</td>\n",
       "      <td>18</td>\n",
       "    </tr>\n",
       "    <tr>\n",
       "      <th>2016-07-05 20:18:18.912</th>\n",
       "      <td>0</td>\n",
       "      <td>0</td>\n",
       "      <td>0</td>\n",
       "      <td>0</td>\n",
       "      <td>0</td>\n",
       "      <td>0</td>\n",
       "      <td>18</td>\n",
       "    </tr>\n",
       "    <tr>\n",
       "      <th>2016-07-05 20:18:18.940</th>\n",
       "      <td>0</td>\n",
       "      <td>0</td>\n",
       "      <td>0</td>\n",
       "      <td>0</td>\n",
       "      <td>0</td>\n",
       "      <td>0</td>\n",
       "      <td>18</td>\n",
       "    </tr>\n",
       "    <tr>\n",
       "      <th>2016-07-05 20:18:18.979</th>\n",
       "      <td>0</td>\n",
       "      <td>0</td>\n",
       "      <td>0</td>\n",
       "      <td>0</td>\n",
       "      <td>0</td>\n",
       "      <td>0</td>\n",
       "      <td>18</td>\n",
       "    </tr>\n",
       "    <tr>\n",
       "      <th>2016-07-05 20:18:19.035</th>\n",
       "      <td>0</td>\n",
       "      <td>0</td>\n",
       "      <td>0</td>\n",
       "      <td>0</td>\n",
       "      <td>0</td>\n",
       "      <td>0</td>\n",
       "      <td>18</td>\n",
       "    </tr>\n",
       "    <tr>\n",
       "      <th>2016-07-05 20:18:19.070</th>\n",
       "      <td>0</td>\n",
       "      <td>0</td>\n",
       "      <td>0</td>\n",
       "      <td>0</td>\n",
       "      <td>0</td>\n",
       "      <td>0</td>\n",
       "      <td>18</td>\n",
       "    </tr>\n",
       "    <tr>\n",
       "      <th>2016-07-05 20:18:19.119</th>\n",
       "      <td>0</td>\n",
       "      <td>0</td>\n",
       "      <td>0</td>\n",
       "      <td>0</td>\n",
       "      <td>0</td>\n",
       "      <td>0</td>\n",
       "      <td>18</td>\n",
       "    </tr>\n",
       "    <tr>\n",
       "      <th>2016-07-05 20:18:19.165</th>\n",
       "      <td>0</td>\n",
       "      <td>0</td>\n",
       "      <td>0</td>\n",
       "      <td>0</td>\n",
       "      <td>0</td>\n",
       "      <td>0</td>\n",
       "      <td>18</td>\n",
       "    </tr>\n",
       "    <tr>\n",
       "      <th>2016-07-05 20:18:19.276</th>\n",
       "      <td>0</td>\n",
       "      <td>0</td>\n",
       "      <td>0</td>\n",
       "      <td>0</td>\n",
       "      <td>0</td>\n",
       "      <td>0</td>\n",
       "      <td>18</td>\n",
       "    </tr>\n",
       "    <tr>\n",
       "      <th>2016-07-05 20:18:19.386</th>\n",
       "      <td>0</td>\n",
       "      <td>0</td>\n",
       "      <td>0</td>\n",
       "      <td>0</td>\n",
       "      <td>0</td>\n",
       "      <td>0</td>\n",
       "      <td>18</td>\n",
       "    </tr>\n",
       "    <tr>\n",
       "      <th>2016-07-05 20:18:19.539</th>\n",
       "      <td>0</td>\n",
       "      <td>0</td>\n",
       "      <td>0</td>\n",
       "      <td>0</td>\n",
       "      <td>0</td>\n",
       "      <td>0</td>\n",
       "      <td>18</td>\n",
       "    </tr>\n",
       "    <tr>\n",
       "      <th>2016-07-05 20:18:19.645</th>\n",
       "      <td>0</td>\n",
       "      <td>0</td>\n",
       "      <td>0</td>\n",
       "      <td>0</td>\n",
       "      <td>0</td>\n",
       "      <td>0</td>\n",
       "      <td>18</td>\n",
       "    </tr>\n",
       "    <tr>\n",
       "      <th>2016-07-05 20:18:19.753</th>\n",
       "      <td>0</td>\n",
       "      <td>0</td>\n",
       "      <td>0</td>\n",
       "      <td>0</td>\n",
       "      <td>0</td>\n",
       "      <td>0</td>\n",
       "      <td>18</td>\n",
       "    </tr>\n",
       "    <tr>\n",
       "      <th>2016-07-05 20:18:19.902</th>\n",
       "      <td>0</td>\n",
       "      <td>0</td>\n",
       "      <td>0</td>\n",
       "      <td>0</td>\n",
       "      <td>0</td>\n",
       "      <td>0</td>\n",
       "      <td>18</td>\n",
       "    </tr>\n",
       "    <tr>\n",
       "      <th>2016-07-05 20:18:20.016</th>\n",
       "      <td>0</td>\n",
       "      <td>0</td>\n",
       "      <td>0</td>\n",
       "      <td>0</td>\n",
       "      <td>0</td>\n",
       "      <td>0</td>\n",
       "      <td>18</td>\n",
       "    </tr>\n",
       "    <tr>\n",
       "      <th>2016-07-05 20:18:20.112</th>\n",
       "      <td>0</td>\n",
       "      <td>0</td>\n",
       "      <td>0</td>\n",
       "      <td>0</td>\n",
       "      <td>0</td>\n",
       "      <td>0</td>\n",
       "      <td>18</td>\n",
       "    </tr>\n",
       "    <tr>\n",
       "      <th>2016-07-05 20:18:20.769</th>\n",
       "      <td>0</td>\n",
       "      <td>0</td>\n",
       "      <td>0</td>\n",
       "      <td>0</td>\n",
       "      <td>0</td>\n",
       "      <td>0</td>\n",
       "      <td>18</td>\n",
       "    </tr>\n",
       "    <tr>\n",
       "      <th>2016-07-05 20:18:20.802</th>\n",
       "      <td>0</td>\n",
       "      <td>0</td>\n",
       "      <td>0</td>\n",
       "      <td>0</td>\n",
       "      <td>0</td>\n",
       "      <td>0</td>\n",
       "      <td>18</td>\n",
       "    </tr>\n",
       "    <tr>\n",
       "      <th>2016-07-05 20:18:20.834</th>\n",
       "      <td>0</td>\n",
       "      <td>0</td>\n",
       "      <td>0</td>\n",
       "      <td>0</td>\n",
       "      <td>0</td>\n",
       "      <td>0</td>\n",
       "      <td>18</td>\n",
       "    </tr>\n",
       "    <tr>\n",
       "      <th>2016-07-05 20:18:20.884</th>\n",
       "      <td>0</td>\n",
       "      <td>0</td>\n",
       "      <td>0</td>\n",
       "      <td>0</td>\n",
       "      <td>0</td>\n",
       "      <td>0</td>\n",
       "      <td>18</td>\n",
       "    </tr>\n",
       "    <tr>\n",
       "      <th>2016-07-05 20:18:20.924</th>\n",
       "      <td>0</td>\n",
       "      <td>0</td>\n",
       "      <td>0</td>\n",
       "      <td>0</td>\n",
       "      <td>0</td>\n",
       "      <td>0</td>\n",
       "      <td>18</td>\n",
       "    </tr>\n",
       "    <tr>\n",
       "      <th>2016-07-05 20:18:20.952</th>\n",
       "      <td>0</td>\n",
       "      <td>0</td>\n",
       "      <td>0</td>\n",
       "      <td>0</td>\n",
       "      <td>0</td>\n",
       "      <td>0</td>\n",
       "      <td>18</td>\n",
       "    </tr>\n",
       "    <tr>\n",
       "      <th>2016-07-05 20:18:21.000</th>\n",
       "      <td>0</td>\n",
       "      <td>0</td>\n",
       "      <td>0</td>\n",
       "      <td>0</td>\n",
       "      <td>0</td>\n",
       "      <td>0</td>\n",
       "      <td>18</td>\n",
       "    </tr>\n",
       "    <tr>\n",
       "      <th>2016-07-05 20:18:21.111</th>\n",
       "      <td>0</td>\n",
       "      <td>0</td>\n",
       "      <td>0</td>\n",
       "      <td>0</td>\n",
       "      <td>0</td>\n",
       "      <td>0</td>\n",
       "      <td>18</td>\n",
       "    </tr>\n",
       "    <tr>\n",
       "      <th>2016-07-05 20:18:21.211</th>\n",
       "      <td>0</td>\n",
       "      <td>0</td>\n",
       "      <td>0</td>\n",
       "      <td>0</td>\n",
       "      <td>0</td>\n",
       "      <td>0</td>\n",
       "      <td>18</td>\n",
       "    </tr>\n",
       "    <tr>\n",
       "      <th>2016-07-05 20:18:21.356</th>\n",
       "      <td>0</td>\n",
       "      <td>0</td>\n",
       "      <td>0</td>\n",
       "      <td>0</td>\n",
       "      <td>0</td>\n",
       "      <td>0</td>\n",
       "      <td>18</td>\n",
       "    </tr>\n",
       "  </tbody>\n",
       "</table>\n",
       "<p>8241 rows × 7 columns</p>\n",
       "</div>"
      ],
      "text/plain": [
       "                        Stream1 Stream2 Stream3 Stream4 Overall Truth  Minutes\n",
       "Timestamp                                                                     \n",
       "2016-07-05 20:01:32.470       0       0       0       0       0     0        1\n",
       "2016-07-05 20:01:32.580       0       0       0       0       0     0        1\n",
       "2016-07-05 20:01:32.727       0       0       0       0       0     0        1\n",
       "2016-07-05 20:01:32.837       0       0       0       0       0     0        1\n",
       "2016-07-05 20:01:32.947       0       0       0       0       0     0        1\n",
       "2016-07-05 20:01:33.094       0       0       0       0       0     0        1\n",
       "2016-07-05 20:01:33.205       0       0       0       0       0     0        1\n",
       "2016-07-05 20:01:33.315       0       0       0       0       0     0        1\n",
       "2016-07-05 20:01:33.462       0       0       0       0       0     0        1\n",
       "2016-07-05 20:01:33.572       0       0       0       0       0     0        1\n",
       "2016-07-05 20:01:33.683       0       0       0       0       0     0        1\n",
       "2016-07-05 20:01:33.830       0       0       0       0       0     0        1\n",
       "2016-07-05 20:01:33.940       0       0       0       0       0     0        1\n",
       "2016-07-05 20:01:34.050       0       0       0       0       0     0        1\n",
       "2016-07-05 20:01:34.197       0       0       0       0       0     0        1\n",
       "2016-07-05 20:01:34.307       0       0       0       0       0     0        1\n",
       "2016-07-05 20:01:34.417       0       0       0       0       0     0        1\n",
       "2016-07-05 20:01:34.564       0       0       0       0       0     0        1\n",
       "2016-07-05 20:01:34.675       0       0       0       0       0     0        1\n",
       "2016-07-05 20:01:34.785       0       0       0       0       0     0        1\n",
       "2016-07-05 20:01:34.932       0       0       0       0       0     0        1\n",
       "2016-07-05 20:01:35.043       0       0       0       0       0     0        1\n",
       "2016-07-05 20:01:35.153       0       0       0       0       0     0        1\n",
       "2016-07-05 20:01:35.300       0       0       0       0       0     0        1\n",
       "2016-07-05 20:01:35.410       0       0       0       0       0     0        1\n",
       "2016-07-05 20:01:35.521       0       0       0       0       0     0        1\n",
       "2016-07-05 20:01:35.667       0       0       0       0       0     0        1\n",
       "2016-07-05 20:01:35.778       0       0       0       0       0     0        1\n",
       "2016-07-05 20:01:35.888       0       0       0       0       0     0        1\n",
       "2016-07-05 20:01:36.035       0       0       0       0       0     0        1\n",
       "...                         ...     ...     ...     ...     ...   ...      ...\n",
       "2016-07-05 20:18:18.748       0       0       0       0       0     0       18\n",
       "2016-07-05 20:18:18.775       0       0       0       0       0     0       18\n",
       "2016-07-05 20:18:18.807       0       0       0       0       0     0       18\n",
       "2016-07-05 20:18:18.834       0       0       0       0       0     0       18\n",
       "2016-07-05 20:18:18.869       0       0       0       0       0     0       18\n",
       "2016-07-05 20:18:18.912       0       0       0       0       0     0       18\n",
       "2016-07-05 20:18:18.940       0       0       0       0       0     0       18\n",
       "2016-07-05 20:18:18.979       0       0       0       0       0     0       18\n",
       "2016-07-05 20:18:19.035       0       0       0       0       0     0       18\n",
       "2016-07-05 20:18:19.070       0       0       0       0       0     0       18\n",
       "2016-07-05 20:18:19.119       0       0       0       0       0     0       18\n",
       "2016-07-05 20:18:19.165       0       0       0       0       0     0       18\n",
       "2016-07-05 20:18:19.276       0       0       0       0       0     0       18\n",
       "2016-07-05 20:18:19.386       0       0       0       0       0     0       18\n",
       "2016-07-05 20:18:19.539       0       0       0       0       0     0       18\n",
       "2016-07-05 20:18:19.645       0       0       0       0       0     0       18\n",
       "2016-07-05 20:18:19.753       0       0       0       0       0     0       18\n",
       "2016-07-05 20:18:19.902       0       0       0       0       0     0       18\n",
       "2016-07-05 20:18:20.016       0       0       0       0       0     0       18\n",
       "2016-07-05 20:18:20.112       0       0       0       0       0     0       18\n",
       "2016-07-05 20:18:20.769       0       0       0       0       0     0       18\n",
       "2016-07-05 20:18:20.802       0       0       0       0       0     0       18\n",
       "2016-07-05 20:18:20.834       0       0       0       0       0     0       18\n",
       "2016-07-05 20:18:20.884       0       0       0       0       0     0       18\n",
       "2016-07-05 20:18:20.924       0       0       0       0       0     0       18\n",
       "2016-07-05 20:18:20.952       0       0       0       0       0     0       18\n",
       "2016-07-05 20:18:21.000       0       0       0       0       0     0       18\n",
       "2016-07-05 20:18:21.111       0       0       0       0       0     0       18\n",
       "2016-07-05 20:18:21.211       0       0       0       0       0     0       18\n",
       "2016-07-05 20:18:21.356       0       0       0       0       0     0       18\n",
       "\n",
       "[8241 rows x 7 columns]"
      ]
     },
     "execution_count": 8,
     "metadata": {},
     "output_type": "execute_result"
    }
   ],
   "source": [
    "minutes1 = df1.index.minute\n",
    "time = pd.DataFrame(minutes1, index=df1.index)\n",
    "time.columns=['Minutes']\n",
    "df2 = pd.concat([df1, time], axis = 1)\n",
    "df2"
   ]
  },
  {
   "cell_type": "code",
   "execution_count": 9,
   "metadata": {},
   "outputs": [
    {
     "data": {
      "image/png": "[encoded data removed]",
      "text/plain": [
       "<matplotlib.figure.Figure at 0x103d5f898>"
      ]
     },
     "metadata": {},
     "output_type": "display_data"
    },
    {
     "data": {
      "image/png": "[encoded data removed]",
      "text/plain": [
       "<matplotlib.figure.Figure at 0x1026ddfd0>"
      ]
     },
     "metadata": {},
     "output_type": "display_data"
    },
    {
     "data": {
      "image/png": "[encoded data removed]",
      "text/plain": [
       "<matplotlib.figure.Figure at 0x1a0a28ee48>"
      ]
     },
     "metadata": {},
     "output_type": "display_data"
    },
    {
     "data": {
      "image/png": "[encoded data removed]",
      "text/plain": [
       "<matplotlib.figure.Figure at 0x1a13493978>"
      ]
     },
     "metadata": {},
     "output_type": "display_data"
    },
    {
     "data": {
      "image/png": "[encoded data removed]",
      "text/plain": [
       "<matplotlib.figure.Figure at 0x1a133f4cf8>"
      ]
     },
     "metadata": {},
     "output_type": "display_data"
    }
   ],
   "source": [
    "fig,ax = plt.subplots(1,1,figsize= (10,5))\n",
    "ax.plot(df2.Minutes, df2.Stream1, label = \"Stream1\")\n",
    "ax.set_ylabel('Stream1')\n",
    "ax.set_xlabel('Time in minutes')\n",
    "plt.show()\n",
    "\n",
    "fig,ax = plt.subplots(1,1,figsize= (10,5))\n",
    "ax.plot(df2.index, df2.Stream1, label = \"Stream1\")\n",
    "ax.set_ylabel('Stream1')\n",
    "ax.set_xlabel('Time')\n",
    "plt.show()\n",
    "\n",
    "\n",
    "\n",
    "fig,ax = plt.subplots(1,1,figsize= (18,6))\n",
    "ax.plot(df2.Minutes, df2.Stream2, label = \"Stream2\")\n",
    "ax.set_ylabel('Stream2')\n",
    "ax.set_xlabel('Time in minutes')\n",
    "plt.show()\n",
    "\n",
    "\n",
    "fig,ax = plt.subplots(1,1,figsize= (18,6))\n",
    "ax.plot(df2.Minutes, df2.Stream3, label = \"Stream3\")\n",
    "ax.set_ylabel('Stream3')\n",
    "ax.set_xlabel('Time in minutes')\n",
    "plt.show()\n",
    "\n",
    "\n",
    "fig,ax = plt.subplots(1,1,figsize= (18,6))\n",
    "ax.plot(df2.Minutes, df2.Stream4, label = \"Stream4\")\n",
    "ax.set_ylabel('Stream4')\n",
    "ax.set_xlabel('Time in minutes')\n",
    "plt.show()"
   ]
  },
  {
   "cell_type": "markdown",
   "metadata": {},
   "source": [
    "As we can see, Node 3 detected only abscence for the entire timespan of 18 minutes. This could be because of the following three reasons:\n",
    "\n",
    "1. The black box algorithm which is producing stream3 is not working properly.\n",
    "2. There is no human activity in it's coverage area.\n",
    "3. As we can see from the truth values and the readings of the other three sensors, there is a human presence in the room. Hence, it's not entirely wrong to say that Node3 is not working.\n",
    "\n",
    "**********************************************************************************************************************\n",
    "\n"
   ]
  },
  {
   "cell_type": "markdown",
   "metadata": {},
   "source": [
    "                                    Node Streams vs Truth against Time "
   ]
  },
  {
   "cell_type": "code",
   "execution_count": 10,
   "metadata": {},
   "outputs": [
    {
     "data": {
      "image/png": "[encoded data removed]",
      "text/plain": [
       "<matplotlib.figure.Figure at 0x1a1387d710>"
      ]
     },
     "metadata": {},
     "output_type": "display_data"
    },
    {
     "data": {
      "image/png": "[encoded data removed]",
      "text/plain": [
       "<matplotlib.figure.Figure at 0x1a1349fe48>"
      ]
     },
     "metadata": {},
     "output_type": "display_data"
    },
    {
     "data": {
      "image/png": "[encoded data removed]",
      "text/plain": [
       "<matplotlib.figure.Figure at 0x103d5fac8>"
      ]
     },
     "metadata": {},
     "output_type": "display_data"
    },
    {
     "data": {
      "image/png": "[encoded data removed]",
      "text/plain": [
       "<matplotlib.figure.Figure at 0x1026eb550>"
      ]
     },
     "metadata": {},
     "output_type": "display_data"
    }
   ],
   "source": [
    "plt.figure(figsize=(10,5))\n",
    "plt.plot( 'Minutes', 'Stream1', data=df2, marker='o', markerfacecolor='blue', markersize=12, color='skyblue', linewidth=4)\n",
    "plt.plot( 'Minutes', 'Truth', data=df2, marker='', color='olive', linewidth=2)\n",
    "plt.legend()\n",
    "plt.ylabel('Stream1')\n",
    "plt.xlabel('Time in minutes')\n",
    "plt.show()\n",
    "\n",
    "\n",
    "plt.figure(figsize=(10,5))\n",
    "plt.plot( 'Minutes', 'Stream2', data=df2, marker='o', markerfacecolor='blue', markersize=12, color='skyblue', linewidth=4)\n",
    "plt.plot( 'Minutes', 'Truth', data=df2, marker='', color='olive', linewidth=2)\n",
    "plt.legend()\n",
    "plt.ylabel('Stream2')\n",
    "plt.xlabel('Time in minutes')\n",
    "plt.show()\n",
    "\n",
    "\n",
    "plt.figure(figsize=(10,5))\n",
    "plt.plot( 'Minutes', 'Stream3', data=df2, marker='o', markerfacecolor='blue', markersize=12, color='skyblue', linewidth=4)\n",
    "plt.plot( 'Minutes', 'Truth', data=df2, marker='', color='olive', linewidth=2)\n",
    "plt.ylabel('Stream3')\n",
    "plt.xlabel('Time in minutes')\n",
    "plt.legend()\n",
    "plt.show()\n",
    "\n",
    "\n",
    "plt.figure(figsize=(10,5))\n",
    "plt.plot( 'Minutes', 'Stream4', data=df2, marker='o', markerfacecolor='blue', markersize=12, color='skyblue', linewidth=4)\n",
    "plt.plot( 'Minutes', 'Truth', data=df2, marker='', color='olive', linewidth=2)\n",
    "plt.ylabel('Stream4')\n",
    "plt.xlabel('Time in minutes')\n",
    "plt.legend()\n",
    "plt.show()\n"
   ]
  },
  {
   "cell_type": "markdown",
   "metadata": {},
   "source": [
    "                          Correctness of each Node based on the above graphs\n",
    "--------------------------------------------------------------------------------------------------------------------\n",
    "1. It is evident from figure 1 and figure 2, that nodes 1 and 2 are streaming the same values for the most part which are also coinciding with the truth values, roughly, half of the time. i.e it can be established that Node 1 and Node 2 are correctly identifying the presence or absence of a human in their coverage area. **Another takeaway from this observation is that one of the nodes may prove to be redundant which is worth exploring.**\n",
    "\n",
    "2. The aforementioned observation regarding the truth value(i.e presence or absence) is also applicable to Node 4, even though the individual nodes's observations do not coincide for the most part. For example, Node1 stopped sensing human presence while Node4 started sensing human presence at 5th minute.\n",
    "\n",
    "3. As it is pretty evident from figure3, Node3 readings show no variation irrespective of the truth values which bolsters our previous observations and reasonings regarding Node3.\n",
    "\n",
    "---------------------------------------------------------------------------------------------------------------------\n"
   ]
  },
  {
   "cell_type": "markdown",
   "metadata": {},
   "source": [
    "                                      Statistical Analysis "
   ]
  },
  {
   "cell_type": "code",
   "execution_count": 11,
   "metadata": {},
   "outputs": [
    {
     "name": "stdout",
     "output_type": "stream",
     "text": [
      "0.4481252275209319 0.4409659021963354 0.2744812522752093 0.4784613517776969\n"
     ]
    }
   ],
   "source": [
    "stream1Percent = 0\n",
    "stream2Percent = 0\n",
    "stream3Percent = 0\n",
    "stream4Percent = 0\n",
    "for i in range(len(df2.Stream1)):\n",
    "    if df2.Stream1[i] == df2.Truth[i]:\n",
    "        stream1Percent +=1\n",
    "    if df2.Stream2[i] == df2.Truth[i]:\n",
    "        stream2Percent +=1\n",
    "    if df2.Stream3[i] == df2.Truth[i]:\n",
    "        stream3Percent +=1\n",
    "    if df2.Stream4[i] == df2.Truth[i]:\n",
    "        stream4Percent +=1\n",
    "stream1Percent /= len(df2.Stream1)\n",
    "stream2Percent /= len(df2.Stream1)\n",
    "stream3Percent /= len(df2.Stream1)\n",
    "stream4Percent /= len(df2.Stream1)\n",
    "\n",
    "print(stream1Percent,stream2Percent,stream3Percent,stream4Percent)"
   ]
  },
  {
   "cell_type": "code",
   "execution_count": 12,
   "metadata": {},
   "outputs": [
    {
     "name": "stdout",
     "output_type": "stream",
     "text": [
      "0.821502244873195\n",
      "0.6318407960199005\n",
      "0.6472515471423371\n"
     ]
    }
   ],
   "source": [
    "stream1stream2 = 0\n",
    "stream1stream4 = 0\n",
    "stream2stream4 = 0\n",
    "\n",
    "for i in range(len(df2.Stream1)):\n",
    "    if df2.Stream1[i] == df2.Stream2[i]:\n",
    "        stream1stream2 +=1\n",
    "print(stream1stream2 / len(df2.Stream1))\n",
    "\n",
    "\n",
    "for i in range(len(df2.Stream1)):\n",
    "    if df2.Stream1[i] == df2.Stream4[i]:\n",
    "        stream1stream4 +=1\n",
    "print(stream1stream4 / len(df2.Stream1))\n",
    "\n",
    "\n",
    "for i in range(len(df2.Stream1)):\n",
    "    if df2.Stream2[i] == df2.Stream4[i]:\n",
    "        stream2stream4 +=1\n",
    "print(stream2stream4 / len(df2.Stream1))\n",
    "\n"
   ]
  },
  {
   "cell_type": "markdown",
   "metadata": {},
   "source": [
    "                           Plots of Stream1, Stream2, Stream3 and Stream4 against Overall "
   ]
  },
  {
   "cell_type": "code",
   "execution_count": 13,
   "metadata": {},
   "outputs": [
    {
     "data": {
      "image/png": "[encoded data removed]",
      "text/plain": [
       "<matplotlib.figure.Figure at 0x1a13493240>"
      ]
     },
     "metadata": {},
     "output_type": "display_data"
    },
    {
     "data": {
      "image/png": "[encoded data removed]",
      "text/plain": [
       "<matplotlib.figure.Figure at 0x1a0a3f8b38>"
      ]
     },
     "metadata": {},
     "output_type": "display_data"
    },
    {
     "data": {
      "image/png": "[encoded data removed]",
      "text/plain": [
       "<matplotlib.figure.Figure at 0x1a0a6361d0>"
      ]
     },
     "metadata": {},
     "output_type": "display_data"
    },
    {
     "data": {
      "image/png": "[encoded data removed]",
      "text/plain": [
       "<matplotlib.figure.Figure at 0x1a13b40f28>"
      ]
     },
     "metadata": {},
     "output_type": "display_data"
    }
   ],
   "source": [
    "plt.figure(figsize=(15,5))\n",
    "plt.plot( 'Minutes', 'Stream1', data=df2, marker='o', markerfacecolor='blue', markersize=10, color='blue', linewidth=6)\n",
    "plt.plot( 'Minutes', 'Overall', data=df2, marker='s', color='orange', linewidth=4)\n",
    "plt.legend()\n",
    "plt.ylabel('Stream1 & Overall')\n",
    "plt.xlabel('Time in minutes')\n",
    "plt.show()\n",
    "\n",
    "\n",
    "plt.figure(figsize=(15,5))\n",
    "plt.plot( 'Minutes', 'Stream2', data=df2, marker='o', markerfacecolor='blue', markersize=12, color='blue', linewidth=6)\n",
    "plt.plot( 'Minutes', 'Overall', data=df2, marker='s', color='orange', linewidth=4)\n",
    "plt.legend()\n",
    "plt.ylabel('Stream2 & Overall')\n",
    "plt.xlabel('Time in minutes')\n",
    "plt.show()\n",
    "\n",
    "\n",
    "plt.figure(figsize=(15,5))\n",
    "plt.plot( 'Minutes', 'Stream3', data=df2, marker='o', markerfacecolor='blue', markersize=12, color='blue', linewidth=6)\n",
    "plt.plot( 'Minutes', 'Overall', data=df2, marker='s', color='orange', linewidth=4)\n",
    "plt.ylabel('Stream3 & Overall')\n",
    "plt.xlabel('Time in minutes')\n",
    "plt.legend()\n",
    "plt.show()\n",
    "\n",
    "\n",
    "plt.figure(figsize=(15,5))\n",
    "plt.plot( 'Minutes', 'Stream4', data=df2, marker='o', markerfacecolor='blue', markersize=12, color='blue', linewidth=6)\n",
    "plt.plot( 'Minutes', 'Overall', data=df2, marker='s', color='orange', linewidth=4)\n",
    "plt.ylabel('Stream4 & Overall')\n",
    "plt.xlabel('Time in minutes')\n",
    "plt.legend()\n",
    "plt.show()\n"
   ]
  },
  {
   "cell_type": "markdown",
   "metadata": {},
   "source": [
    "**The plot of Stream2 and Overall against time shows that Node2 processed stream has outliers because in a matter of microseconds it shows both presence and absence of a human.**\n",
    "\n",
    "----------------------------------------------------------------------------------------------------------------------"
   ]
  },
  {
   "cell_type": "markdown",
   "metadata": {},
   "source": [
    "                        Contribution of processed stream from each Node in the Overall sensing results "
   ]
  },
  {
   "cell_type": "code",
   "execution_count": 14,
   "metadata": {},
   "outputs": [
    {
     "data": {
      "image/png": "[encoded data removed]",
      "text/plain": [
       "<matplotlib.figure.Figure at 0x103d5f198>"
      ]
     },
     "metadata": {},
     "output_type": "display_data"
    }
   ],
   "source": [
    "plt.figure(figsize=(30,10))\n",
    "plt.plot( 'Minutes', 'Stream1', data=df2, marker='o', markerfacecolor='blue', markersize=12, color='blue', linewidth=10)\n",
    "plt.plot( 'Minutes', 'Stream4', data=df2, marker='d', markerfacecolor='red', markersize=12, color='red', linestyle = ':',linewidth=6)\n",
    "plt.plot( 'Minutes', 'Stream2', data=df2, marker='d', markerfacecolor='green', markersize=12, color='green',linewidth=4)\n",
    "plt.plot( 'Minutes', 'Stream3', data=df2, marker='^', markerfacecolor='black', markersize=12, color='black',linewidth=2)\n",
    "plt.plot( 'Minutes', 'Overall', data=df2, marker='s', color='orange', linewidth=2)\n",
    "plt.legend()\n",
    "plt.ylabel('Stream1, Stream 2, Stream4 & Overall')\n",
    "plt.xlabel('Time in minutes')\n",
    "plt.show()"
   ]
  },
  {
   "cell_type": "markdown",
   "metadata": {},
   "source": [
    "**There are two things worth noticing in this graph:**\n",
    "\n",
    "1. We have already established Node2 has many outliers and Node1 and Node2 are producing similar results. Moreover, from this graph, it is evident that the contribution of Node2 towards overall is less than Node1's contribution.Hence, it strongly looks like that Node2 is rendered redundant by Node1.\n",
    "\n",
    "2. From the graph we can see that even though Node1 and Node4 are not contributing a large amount individually towards overall but when combined, there values are overlapping with Overall for the most part. Thus, we can make an educated guess that the processed streams from Node1 and Node4 might be going through an **OR Logic gate** in the provided black-box, thereby producing True values when either of them is True. "
   ]
  },
  {
   "cell_type": "markdown",
   "metadata": {},
   "source": [
    "                            Plot between Overall(Predicted values) vs Truth(Actual values)"
   ]
  },
  {
   "cell_type": "code",
   "execution_count": 15,
   "metadata": {},
   "outputs": [
    {
     "data": {
      "image/png": "[encoded data removed]",
      "text/plain": [
       "<matplotlib.figure.Figure at 0x10273ec50>"
      ]
     },
     "metadata": {},
     "output_type": "display_data"
    }
   ],
   "source": [
    "plt.figure(figsize=(30,10))\n",
    "plt.plot( 'Minutes', 'Truth', data=df2, marker='o', markerfacecolor='blue', markersize=12, color='blue', linewidth=6)\n",
    "plt.plot( 'Minutes', 'Overall', data=df2, marker='s', color='orange', linewidth=2)\n",
    "plt.legend()\n",
    "plt.ylabel('Truth & Overall')\n",
    "plt.xlabel('Time in minutes')\n",
    "plt.show()"
   ]
  },
  {
   "cell_type": "markdown",
   "metadata": {},
   "source": [
    "                                          Time-series Prediction"
   ]
  },
  {
   "cell_type": "code",
   "execution_count": 16,
   "metadata": {},
   "outputs": [
    {
     "name": "stderr",
     "output_type": "stream",
     "text": [
      "Using TensorFlow backend.\n",
      "/Users/rosy/anaconda3/lib/python3.6/importlib/_bootstrap.py:219: RuntimeWarning: compiletime version 3.5 of module 'tensorflow.python.framework.fast_tensor_util' does not match runtime version 3.6\n",
      "  return f(*args, **kwds)\n"
     ]
    }
   ],
   "source": [
    "from pandas import concat\n",
    "from keras.models import Sequential\n",
    "from keras.layers import LSTM,Dense\n",
    "def series_to_supervised(df,nvar, n_in=1, n_out=1, dropnan=True):\n",
    "    \"\"\"\n",
    "    Frame a time series as a supervised learning dataset.\n",
    "    Arguments:\n",
    "        data: Sequence of observations as a list or NumPy array.\n",
    "        n_in: Number of lag observations as input (X).\n",
    "        n_out: Number of observations as output (y).\n",
    "        dropnan: Boolean whether or not to drop rows with NaN values.\n",
    "    Returns:\n",
    "        Pandas DataFrame of series framed for supervised learning.\n",
    "    \"\"\"\n",
    "    n_vars = nvar\n",
    "    \n",
    "    cols, names = list(), list()\n",
    "    # input sequence (t-n, ... t-1)\n",
    "    for i in range(n_in, 0, -1):\n",
    "        cols.append(df.shift(i))\n",
    "        names += [('var%d(t-%d)' % (j+1, i)) for j in range(n_vars)]\n",
    "    # forecast sequence (t, t+1, ... t+n)\n",
    "    for i in range(0, n_out):\n",
    "        cols.append(df.shift(-i))\n",
    "        if i == 0:\n",
    "            names += [('var%d(t)' % (j+1)) for j in range(n_vars)]\n",
    "        else:\n",
    "            names += [('var%d(t+%d)' % (j+1, i)) for j in range(n_vars)]\n",
    "    # put it all together\n",
    "    agg = concat(cols, axis=1)\n",
    "    agg.columns = names\n",
    "    # drop rows with NaN values\n",
    "    if dropnan:\n",
    "        agg.dropna(inplace=True)\n",
    "    return agg"
   ]
  },
  {
   "cell_type": "markdown",
   "metadata": {},
   "source": [
    "##### Case1: Comparing predicted overall's accuracy with overall stream provided"
   ]
  },
  {
   "cell_type": "code",
   "execution_count": 17,
   "metadata": {},
   "outputs": [
    {
     "name": "stdout",
     "output_type": "stream",
     "text": [
      "Train on 5000 samples, validate on 1499 samples\n",
      "Epoch 1/50\n",
      " - 0s - loss: 0.8393 - acc: 0.5764 - val_loss: 0.5302 - val_acc: 1.0000\n",
      "Epoch 2/50\n",
      " - 0s - loss: 0.4457 - acc: 0.8148 - val_loss: 0.3737 - val_acc: 1.0000\n",
      "Epoch 3/50\n",
      " - 0s - loss: 0.3603 - acc: 0.8372 - val_loss: 0.2888 - val_acc: 1.0000\n",
      "Epoch 4/50\n",
      " - 0s - loss: 0.3014 - acc: 0.8772 - val_loss: 0.2516 - val_acc: 1.0000\n",
      "Epoch 5/50\n",
      " - 0s - loss: 0.2507 - acc: 0.9368 - val_loss: 0.2193 - val_acc: 1.0000\n",
      "Epoch 6/50\n",
      " - 0s - loss: 0.2068 - acc: 0.9790 - val_loss: 0.1967 - val_acc: 1.0000\n",
      "Epoch 7/50\n",
      " - 0s - loss: 0.1711 - acc: 0.9990 - val_loss: 0.1865 - val_acc: 1.0000\n",
      "Epoch 8/50\n",
      " - 0s - loss: 0.1418 - acc: 0.9992 - val_loss: 0.1677 - val_acc: 1.0000\n",
      "Epoch 9/50\n",
      " - 0s - loss: 0.1141 - acc: 0.9994 - val_loss: 0.1620 - val_acc: 1.0000\n",
      "Epoch 10/50\n",
      " - 0s - loss: 0.0915 - acc: 0.9994 - val_loss: 0.1543 - val_acc: 1.0000\n",
      "Epoch 11/50\n",
      " - 0s - loss: 0.0708 - acc: 0.9994 - val_loss: 0.1379 - val_acc: 1.0000\n",
      "Epoch 12/50\n",
      " - 0s - loss: 0.0564 - acc: 0.9994 - val_loss: 0.1189 - val_acc: 1.0000\n",
      "Epoch 13/50\n",
      " - 0s - loss: 0.0480 - acc: 0.9994 - val_loss: 0.1067 - val_acc: 1.0000\n",
      "Epoch 14/50\n",
      " - 0s - loss: 0.0413 - acc: 0.9994 - val_loss: 0.0918 - val_acc: 1.0000\n",
      "Epoch 15/50\n",
      " - 0s - loss: 0.0352 - acc: 0.9994 - val_loss: 0.0741 - val_acc: 1.0000\n",
      "Epoch 16/50\n",
      " - 0s - loss: 0.0296 - acc: 0.9994 - val_loss: 0.0637 - val_acc: 0.8346\n",
      "Epoch 17/50\n",
      " - 0s - loss: 0.0241 - acc: 0.9112 - val_loss: 0.0509 - val_acc: 0.8272\n",
      "Epoch 18/50\n",
      " - 0s - loss: 0.0189 - acc: 0.9046 - val_loss: 0.0361 - val_acc: 0.8272\n",
      "Epoch 19/50\n",
      " - 0s - loss: 0.0157 - acc: 0.9000 - val_loss: 0.0268 - val_acc: 0.8272\n",
      "Epoch 20/50\n",
      " - 0s - loss: 0.0109 - acc: 0.9000 - val_loss: 0.0150 - val_acc: 0.8272\n",
      "Epoch 21/50\n",
      " - 0s - loss: 0.0079 - acc: 0.8994 - val_loss: 0.0097 - val_acc: 0.8259\n",
      "Epoch 22/50\n",
      " - 0s - loss: 0.0054 - acc: 0.8984 - val_loss: 0.0072 - val_acc: 0.8252\n",
      "Epoch 23/50\n",
      " - 0s - loss: 0.0050 - acc: 0.8982 - val_loss: 0.0048 - val_acc: 0.8252\n",
      "Epoch 24/50\n",
      " - 0s - loss: 0.0044 - acc: 0.8980 - val_loss: 0.0038 - val_acc: 0.8252\n",
      "Epoch 25/50\n",
      " - 0s - loss: 0.0043 - acc: 0.8980 - val_loss: 0.0028 - val_acc: 0.8252\n",
      "Epoch 26/50\n",
      " - 0s - loss: 0.0042 - acc: 0.8980 - val_loss: 1.1921e-07 - val_acc: 0.8252\n",
      "Epoch 27/50\n",
      " - 0s - loss: 0.0042 - acc: 0.8980 - val_loss: 1.1921e-07 - val_acc: 0.8252\n",
      "Epoch 28/50\n",
      " - 0s - loss: 0.0041 - acc: 0.8976 - val_loss: 1.1921e-07 - val_acc: 0.8252\n",
      "Epoch 29/50\n",
      " - 0s - loss: 0.0041 - acc: 0.8980 - val_loss: 1.1921e-07 - val_acc: 0.8252\n",
      "Epoch 30/50\n",
      " - 0s - loss: 0.0041 - acc: 0.8978 - val_loss: 1.1921e-07 - val_acc: 0.8252\n",
      "Epoch 31/50\n",
      " - 0s - loss: 0.0041 - acc: 0.8978 - val_loss: 1.1921e-07 - val_acc: 0.8252\n",
      "Epoch 32/50\n",
      " - 0s - loss: 0.0041 - acc: 0.8978 - val_loss: 1.1921e-07 - val_acc: 0.8252\n",
      "Epoch 33/50\n",
      " - 0s - loss: 0.0041 - acc: 0.8978 - val_loss: 1.1921e-07 - val_acc: 0.8252\n",
      "Epoch 34/50\n",
      " - 0s - loss: 0.0041 - acc: 0.8976 - val_loss: 1.1921e-07 - val_acc: 0.8252\n",
      "Epoch 35/50\n",
      " - 0s - loss: 0.0041 - acc: 0.8976 - val_loss: 1.1921e-07 - val_acc: 0.8245\n",
      "Epoch 36/50\n",
      " - 0s - loss: 0.0041 - acc: 0.8972 - val_loss: 1.1921e-07 - val_acc: 0.8245\n",
      "Epoch 37/50\n",
      " - 0s - loss: 0.0041 - acc: 0.8978 - val_loss: 1.1921e-07 - val_acc: 0.8252\n",
      "Epoch 38/50\n",
      " - 0s - loss: 0.0041 - acc: 0.8978 - val_loss: 1.1921e-07 - val_acc: 0.8252\n",
      "Epoch 39/50\n",
      " - 0s - loss: 0.0041 - acc: 0.8978 - val_loss: 1.1921e-07 - val_acc: 0.8252\n",
      "Epoch 40/50\n",
      " - 0s - loss: 0.0041 - acc: 0.8976 - val_loss: 1.1921e-07 - val_acc: 0.8252\n",
      "Epoch 41/50\n",
      " - 0s - loss: 0.0041 - acc: 0.8976 - val_loss: 1.1921e-07 - val_acc: 0.8245\n",
      "Epoch 42/50\n",
      " - 0s - loss: 0.0041 - acc: 0.8972 - val_loss: 1.1921e-07 - val_acc: 0.8245\n",
      "Epoch 43/50\n",
      " - 0s - loss: 0.0041 - acc: 0.8972 - val_loss: 1.1921e-07 - val_acc: 0.8245\n",
      "Epoch 44/50\n",
      " - 0s - loss: 0.0041 - acc: 0.8972 - val_loss: 1.1921e-07 - val_acc: 0.8245\n",
      "Epoch 45/50\n",
      " - 0s - loss: 0.0041 - acc: 0.8978 - val_loss: 1.1921e-07 - val_acc: 0.8252\n",
      "Epoch 46/50\n",
      " - 0s - loss: 0.0041 - acc: 0.8978 - val_loss: 1.1921e-07 - val_acc: 0.8252\n",
      "Epoch 47/50\n",
      " - 0s - loss: 0.0041 - acc: 0.8976 - val_loss: 1.1921e-07 - val_acc: 0.8252\n",
      "Epoch 48/50\n",
      " - 0s - loss: 0.0041 - acc: 0.8972 - val_loss: 1.1921e-07 - val_acc: 0.8245\n",
      "Epoch 49/50\n",
      " - 0s - loss: 0.0041 - acc: 0.8972 - val_loss: 1.1921e-07 - val_acc: 0.8245\n",
      "Epoch 50/50\n",
      " - 0s - loss: 0.0041 - acc: 0.8972 - val_loss: 1.1921e-07 - val_acc: 0.8245\n"
     ]
    },
    {
     "data": {
      "image/png": "[encoded data removed]",
      "text/plain": [
       "<matplotlib.figure.Figure at 0x1a14a946d8>"
      ]
     },
     "metadata": {},
     "output_type": "display_data"
    },
    {
     "name": "stdout",
     "output_type": "stream",
     "text": [
      "Accuracy of predicted stream against Truth in the test dataset:  0.618171362852214\n",
      "Accuracy of predicted stream against Overall in the test dataset:  0.9976998274870615\n",
      "Accuracy of provided Overall against Truth values in the Test dataset 0.6195402298850575\n"
     ]
    }
   ],
   "source": [
    "reframed = series_to_supervised(df1.iloc[:,:5],5)\n",
    "\n",
    "# split into train and test sets\n",
    "values = reframed.values\n",
    "train = values[:5000, :]\n",
    "test = values[5001:6500, :]\n",
    "\n",
    "# split into input and outputs\n",
    "train_X, train_y = train[:, :-1], train[:, -1]\n",
    "test_X, test_y = test[:, :-1], test[:, -1]\n",
    "\n",
    "# reshape input to be 3D [samples, timesteps, features]\n",
    "train_X = train_X.reshape((train_X.shape[0], 1, train_X.shape[1]))\n",
    "test_X = test_X.reshape((test_X.shape[0], 1, test_X.shape[1]))\n",
    "\n",
    "model = Sequential()\n",
    "model.add(LSTM(50,input_shape=(train_X.shape[1], train_X.shape[2])))\n",
    "model.add(Dense(1))\n",
    "model.compile(loss='binary_crossentropy', optimizer='sgd',metrics = ['accuracy'])\n",
    "history = model.fit(train_X, train_y, epochs=50, batch_size=100, validation_data=(test_X, test_y), verbose=2, shuffle=False)\n",
    "plt.plot(history.history['loss'], label='train')\n",
    "plt.plot(history.history['val_loss'], label='test')\n",
    "plt.legend()\n",
    "plt.show()\n",
    "\n",
    "#Predicting values:\n",
    "pred = values[6501:,:-1]\n",
    "pred = pred.reshape((pred.shape[0], 1, pred.shape[1]))\n",
    "li = model.predict_classes(pred)\n",
    "\n",
    "#Checking the accuracy against the provided Truth in the Test Dataset:\n",
    "same = 0\n",
    "for i in range(len(li) - 1):\n",
    "    if df1.Truth[6502 + i] == li[i]:\n",
    "        same += 1;\n",
    "print('Accuracy of predicted stream against Truth in the test dataset: ',same / len(li))\n",
    "\n",
    "#Checking the accuracy against the provided Overall values in the Test dataset:\n",
    "same = 0\n",
    "for i in range(len(li) - 1):\n",
    "    if df1.Overall[6502 + i] == li[i]:\n",
    "        same += 1;\n",
    "print('Accuracy of predicted stream against Overall in the test dataset: ',same / len(li))\n",
    "\n",
    "#Checking the accuracy of provided Overall against provided Truth values in the Test Dataset:\n",
    "same = 0\n",
    "for i in range(6501,len(df1.Overall)):\n",
    "    if df1.Truth[i] == df1.Overall[i]:\n",
    "        same += 1;\n",
    "print('Accuracy of provided Overall against Truth values in the Test dataset',same / (len(df1.Overall) - 6501))\n",
    "\n"
   ]
  },
  {
   "cell_type": "code",
   "execution_count": 18,
   "metadata": {},
   "outputs": [
    {
     "data": {
      "image/png": "[encoded data removed]",
      "text/plain": [
       "<matplotlib.figure.Figure at 0x1a208af048>"
      ]
     },
     "metadata": {},
     "output_type": "display_data"
    },
    {
     "name": "stdout",
     "output_type": "stream",
     "text": [
      "         Graph1: Plot of predicted Overall values with the given Overall and Truth values in the Test Dataset\n"
     ]
    }
   ],
   "source": [
    "#Plotting the predicted Overall values with the given Overall and Truth values in the Test Dataset:\n",
    "new_df = pd.DataFrame(li)\n",
    "df_a = df1[['Overall','Truth']].copy()\n",
    "df_a = df_a.iloc[6502:]\n",
    "df_a['PredOverall'] = li\n",
    "plt.figure(figsize=(20,10))\n",
    "plt.plot( df_a.index, 'Overall', data=df_a,marker='o', markerfacecolor='blue', markersize=12, color='blue', linewidth=10)\n",
    "plt.plot( df_a.index, 'Truth', data=df_a, marker='d', markerfacecolor='red', markersize=12, color='red',linewidth=8)\n",
    "plt.plot( df_a.index, 'PredOverall', data=df_a, marker='+', markerfacecolor='green', markersize=12, color='green',linewidth=6)\n",
    "plt.legend()\n",
    "plt.ylabel('Overall, Truth and PredOverall')\n",
    "plt.xlabel('Time')\n",
    "plt.show()\n",
    "print('         Graph1: Plot of predicted Overall values with the given Overall and Truth values in the Test Dataset')\n"
   ]
  },
  {
   "cell_type": "markdown",
   "metadata": {},
   "source": [
    "                                             RESULT\n",
    "**The above graph and results confirm that our predicted Overall values match the given Overall values completely, over the test dataset. Hence, it is fair to conclude that for forecasting the outcomes of the Non-ML overall black box, LSTM can be used.**\n",
    "\n",
    "----------------------------------------------------------------------------------------------------------------------"
   ]
  },
  {
   "cell_type": "markdown",
   "metadata": {},
   "source": [
    "##### Case2: Determining the dependency of Overall on Stream1 and Stream4 (or independency from Stream2 and Stream3)"
   ]
  },
  {
   "cell_type": "code",
   "execution_count": 26,
   "metadata": {},
   "outputs": [],
   "source": [
    "#Dropping columns Stream3 and Stream2:\n",
    "nos3 = df1.drop('Stream3',axis = 1)\n",
    "s1s4 = nos3.drop('Stream2', axis = 1)"
   ]
  },
  {
   "cell_type": "code",
   "execution_count": 27,
   "metadata": {},
   "outputs": [
    {
     "name": "stdout",
     "output_type": "stream",
     "text": [
      "Train on 5000 samples, validate on 1499 samples\n",
      "Epoch 1/50\n",
      " - 1s - loss: 0.7050 - acc: 0.7158 - val_loss: 0.5054 - val_acc: 1.0000\n",
      "Epoch 2/50\n",
      " - 0s - loss: 0.4165 - acc: 0.8172 - val_loss: 0.3901 - val_acc: 1.0000\n",
      "Epoch 3/50\n",
      " - 0s - loss: 0.3372 - acc: 0.8572 - val_loss: 0.3279 - val_acc: 1.0000\n",
      "Epoch 4/50\n",
      " - 0s - loss: 0.2798 - acc: 0.8972 - val_loss: 0.2975 - val_acc: 1.0000\n",
      "Epoch 5/50\n",
      " - 0s - loss: 0.2373 - acc: 0.9572 - val_loss: 0.2736 - val_acc: 1.0000\n",
      "Epoch 6/50\n",
      " - 0s - loss: 0.2038 - acc: 0.9994 - val_loss: 0.2517 - val_acc: 1.0000\n",
      "Epoch 7/50\n",
      " - 0s - loss: 0.1709 - acc: 0.9994 - val_loss: 0.2501 - val_acc: 1.0000\n",
      "Epoch 8/50\n",
      " - 0s - loss: 0.1450 - acc: 0.9994 - val_loss: 0.2385 - val_acc: 1.0000\n",
      "Epoch 9/50\n",
      " - 0s - loss: 0.1222 - acc: 0.9994 - val_loss: 0.2218 - val_acc: 1.0000\n",
      "Epoch 10/50\n",
      " - 0s - loss: 0.1005 - acc: 0.9994 - val_loss: 0.1925 - val_acc: 1.0000\n",
      "Epoch 11/50\n",
      " - 0s - loss: 0.0788 - acc: 0.9994 - val_loss: 0.1734 - val_acc: 1.0000\n",
      "Epoch 12/50\n",
      " - 0s - loss: 0.0619 - acc: 0.9994 - val_loss: 0.1453 - val_acc: 1.0000\n",
      "Epoch 13/50\n",
      " - 0s - loss: 0.0488 - acc: 0.9994 - val_loss: 0.1084 - val_acc: 1.0000\n",
      "Epoch 14/50\n",
      " - 0s - loss: 0.0368 - acc: 0.9994 - val_loss: 0.0796 - val_acc: 1.0000\n",
      "Epoch 15/50\n",
      " - 0s - loss: 0.0255 - acc: 0.9994 - val_loss: 0.0563 - val_acc: 1.0000\n",
      "Epoch 16/50\n",
      " - 0s - loss: 0.0157 - acc: 0.9994 - val_loss: 0.0392 - val_acc: 1.0000\n",
      "Epoch 17/50\n",
      " - 0s - loss: 0.0097 - acc: 0.9948 - val_loss: 0.0269 - val_acc: 1.0000\n",
      "Epoch 18/50\n",
      " - 0s - loss: 0.0072 - acc: 0.9948 - val_loss: 0.0165 - val_acc: 1.0000\n",
      "Epoch 19/50\n",
      " - 0s - loss: 0.0055 - acc: 0.9948 - val_loss: 0.0090 - val_acc: 1.0000\n",
      "Epoch 20/50\n",
      " - 0s - loss: 0.0046 - acc: 0.9948 - val_loss: 0.0110 - val_acc: 1.0000\n",
      "Epoch 21/50\n",
      " - 0s - loss: 0.0044 - acc: 0.9948 - val_loss: 0.0059 - val_acc: 1.0000\n",
      "Epoch 22/50\n",
      " - 0s - loss: 0.0042 - acc: 0.9948 - val_loss: 9.4790e-04 - val_acc: 1.0000\n",
      "Epoch 23/50\n",
      " - 0s - loss: 0.0039 - acc: 0.9948 - val_loss: 1.1921e-07 - val_acc: 1.0000\n",
      "Epoch 24/50\n",
      " - 0s - loss: 0.0039 - acc: 0.9948 - val_loss: 1.1921e-07 - val_acc: 1.0000\n",
      "Epoch 25/50\n",
      " - 0s - loss: 0.0041 - acc: 0.9948 - val_loss: 1.1921e-07 - val_acc: 1.0000\n",
      "Epoch 26/50\n",
      " - 0s - loss: 0.0039 - acc: 0.9948 - val_loss: 1.1921e-07 - val_acc: 1.0000\n",
      "Epoch 27/50\n",
      " - 0s - loss: 0.0039 - acc: 0.9948 - val_loss: 1.1921e-07 - val_acc: 1.0000\n",
      "Epoch 28/50\n",
      " - 0s - loss: 0.0039 - acc: 0.9948 - val_loss: 1.1921e-07 - val_acc: 1.0000\n",
      "Epoch 29/50\n",
      " - 0s - loss: 0.0039 - acc: 0.9948 - val_loss: 1.1921e-07 - val_acc: 1.0000\n",
      "Epoch 30/50\n",
      " - 0s - loss: 0.0039 - acc: 0.9948 - val_loss: 1.1921e-07 - val_acc: 1.0000\n",
      "Epoch 31/50\n",
      " - 0s - loss: 0.0039 - acc: 0.9948 - val_loss: 1.1921e-07 - val_acc: 1.0000\n",
      "Epoch 32/50\n",
      " - 0s - loss: 0.0039 - acc: 0.9948 - val_loss: 1.1921e-07 - val_acc: 1.0000\n",
      "Epoch 33/50\n",
      " - 0s - loss: 0.0039 - acc: 0.9948 - val_loss: 1.1921e-07 - val_acc: 1.0000\n",
      "Epoch 34/50\n",
      " - 0s - loss: 0.0039 - acc: 0.9948 - val_loss: 1.1921e-07 - val_acc: 1.0000\n",
      "Epoch 35/50\n",
      " - 0s - loss: 0.0039 - acc: 0.9948 - val_loss: 1.1921e-07 - val_acc: 1.0000\n",
      "Epoch 36/50\n",
      " - 0s - loss: 0.0039 - acc: 0.9948 - val_loss: 1.1921e-07 - val_acc: 1.0000\n",
      "Epoch 37/50\n",
      " - 0s - loss: 0.0039 - acc: 0.9948 - val_loss: 1.1921e-07 - val_acc: 1.0000\n",
      "Epoch 38/50\n",
      " - 0s - loss: 0.0038 - acc: 0.9948 - val_loss: 1.1921e-07 - val_acc: 1.0000\n",
      "Epoch 39/50\n",
      " - 0s - loss: 0.0038 - acc: 0.9948 - val_loss: 1.1921e-07 - val_acc: 1.0000\n",
      "Epoch 40/50\n",
      " - 0s - loss: 0.0038 - acc: 0.9948 - val_loss: 1.1921e-07 - val_acc: 1.0000\n",
      "Epoch 41/50\n",
      " - 0s - loss: 0.0038 - acc: 0.9948 - val_loss: 1.1921e-07 - val_acc: 1.0000\n",
      "Epoch 42/50\n",
      " - 0s - loss: 0.0038 - acc: 0.9948 - val_loss: 1.1921e-07 - val_acc: 1.0000\n",
      "Epoch 43/50\n",
      " - 0s - loss: 0.0038 - acc: 0.9948 - val_loss: 1.1921e-07 - val_acc: 1.0000\n",
      "Epoch 44/50\n",
      " - 0s - loss: 0.0038 - acc: 0.9948 - val_loss: 1.1921e-07 - val_acc: 1.0000\n",
      "Epoch 45/50\n",
      " - 0s - loss: 0.0038 - acc: 0.9948 - val_loss: 1.1921e-07 - val_acc: 1.0000\n",
      "Epoch 46/50\n",
      " - 0s - loss: 0.0039 - acc: 0.9948 - val_loss: 1.1921e-07 - val_acc: 1.0000\n",
      "Epoch 47/50\n",
      " - 0s - loss: 0.0039 - acc: 0.9948 - val_loss: 1.1921e-07 - val_acc: 1.0000\n",
      "Epoch 48/50\n",
      " - 0s - loss: 0.0039 - acc: 0.9948 - val_loss: 1.1921e-07 - val_acc: 1.0000\n",
      "Epoch 49/50\n",
      " - 0s - loss: 0.0039 - acc: 0.9948 - val_loss: 1.1921e-07 - val_acc: 1.0000\n",
      "Epoch 50/50\n",
      " - 0s - loss: 0.0038 - acc: 0.9948 - val_loss: 1.1921e-07 - val_acc: 1.0000\n"
     ]
    },
    {
     "data": {
      "image/png": "[encoded data removed]",
      "text/plain": [
       "<matplotlib.figure.Figure at 0x1a221f0710>"
      ]
     },
     "metadata": {},
     "output_type": "display_data"
    },
    {
     "name": "stdout",
     "output_type": "stream",
     "text": [
      "Accuracy of predicted stream against Truth in the test dataset:  0.618171362852214\n",
      "Accuracy of predicted stream against Overall in the test dataset:  0.9976998274870615\n",
      "Accuracy of provided Overall against Truth values in the Test dataset 0.6195402298850575\n"
     ]
    }
   ],
   "source": [
    "reframed = series_to_supervised(s1s4.iloc[:,:3],3)\n",
    "\n",
    "# split into train and test sets\n",
    "values = reframed.values\n",
    "train = values[:5000, :]\n",
    "test = values[5001:6500, :]\n",
    "\n",
    "# split into input and outputs\n",
    "train_X, train_y = train[:, :-1], train[:, -1]\n",
    "test_X, test_y = test[:, :-1], test[:, -1]\n",
    "\n",
    "# reshape input to be 3D [samples, timesteps, features]\n",
    "train_X = train_X.reshape((train_X.shape[0], 1, train_X.shape[1]))\n",
    "test_X = test_X.reshape((test_X.shape[0], 1, test_X.shape[1]))\n",
    "\n",
    "model1 = Sequential()\n",
    "model1.add(LSTM(50,input_shape=(train_X.shape[1], train_X.shape[2])))\n",
    "model1.add(Dense(1))\n",
    "model1.compile(loss='binary_crossentropy', optimizer='sgd',metrics = ['accuracy'])\n",
    "history = model1.fit(train_X, train_y, epochs=50, batch_size=100, validation_data=(test_X, test_y), verbose=2, shuffle=False)\n",
    "plt.plot(history.history['loss'], label='train')\n",
    "plt.plot(history.history['val_loss'], label='test')\n",
    "plt.legend()\n",
    "plt.show()\n",
    "\n",
    "#Predicting values:\n",
    "pred = values[6501:,:-1]\n",
    "pred = pred.reshape((pred.shape[0], 1, pred.shape[1]))\n",
    "li = model1.predict_classes(pred)\n",
    "\n",
    "#Checking the accuracy against the provided Truth in the Test Dataset:\n",
    "same = 0\n",
    "for i in range(len(li) - 1):\n",
    "    if df1.Truth[6502 + i] == li[i]:\n",
    "        same += 1;\n",
    "print('Accuracy of predicted stream against Truth in the test dataset: ',same / len(li))\n",
    "\n",
    "#Checking the accuracy against the provided Overall values in the Test dataset:\n",
    "same = 0\n",
    "for i in range(len(li) - 1):\n",
    "    if df1.Overall[6502 + i] == li[i]:\n",
    "        same += 1;\n",
    "print('Accuracy of predicted stream against Overall in the test dataset: ',same / len(li))\n",
    "\n",
    "#Checking the accuracy of provided Overall against provided Truth values in the Test Dataset:\n",
    "same = 0\n",
    "for i in range(6501,len(df1.Overall)):\n",
    "    if df1.Truth[i] == df1.Overall[i]:\n",
    "        same += 1;\n",
    "print('Accuracy of provided Overall against Truth values in the Test dataset',same / (len(df1.Overall) - 6501))\n"
   ]
  },
  {
   "cell_type": "code",
   "execution_count": 28,
   "metadata": {
    "scrolled": true
   },
   "outputs": [
    {
     "data": {
      "image/png": "[encoded data removed]",
      "text/plain": [
       "<matplotlib.figure.Figure at 0x1a2088fb38>"
      ]
     },
     "metadata": {},
     "output_type": "display_data"
    },
    {
     "name": "stdout",
     "output_type": "stream",
     "text": [
      "          Graph2: Plot of predicted Overall values with the given Overall and Truth values in the Test Dataset\n"
     ]
    }
   ],
   "source": [
    "#Plotting the predicted Overall values with the given Overall and Truth values in the Test Dataset:\n",
    "new_df = pd.DataFrame(li)\n",
    "df_a = df1[['Overall','Truth']].copy()\n",
    "df_a = df_a.iloc[6502:]\n",
    "df_a['PredOverall'] = li\n",
    "plt.figure(figsize=(20,10))\n",
    "plt.plot( df_a.index, 'Overall', data=df_a, marker='o', markerfacecolor='blue', markersize=12, color='blue', linewidth=10)\n",
    "plt.plot( df_a.index, 'Truth', data=df_a, marker='d', markerfacecolor='red', markersize=12, color='red',linewidth=8)\n",
    "plt.plot( df_a.index, 'PredOverall', data=df_a, marker='+', markerfacecolor='green', markersize=12, color='green',linewidth=6)\n",
    "plt.legend()\n",
    "plt.ylabel('Overall Truth PredOverall')\n",
    "plt.xlabel('Time')\n",
    "plt.show()\n",
    "print('          Graph2: Plot of predicted Overall values with the given Overall and Truth values in the Test Dataset')\n"
   ]
  },
  {
   "cell_type": "markdown",
   "metadata": {},
   "source": [
    "                                              RESULT\n",
    "**Graph1 and Graph2 are identical and the accuracies are identical too. Considering this observation alongwith all the previous observations, we can confirm that Overall does not depend on Node2 and Node3 (or depends on Node1 and Node4 to a very large extent).**\n",
    "\n",
    "----------------------------------------------------------------------------------------------------------------------"
   ]
  },
  {
   "cell_type": "markdown",
   "metadata": {},
   "source": [
    "                                               Classification"
   ]
  },
  {
   "cell_type": "markdown",
   "metadata": {},
   "source": [
    "                                       Classification using Random Forest "
   ]
  },
  {
   "cell_type": "code",
   "execution_count": 22,
   "metadata": {},
   "outputs": [
    {
     "name": "stderr",
     "output_type": "stream",
     "text": [
      "/Users/rosy/anaconda3/lib/python3.6/site-packages/sklearn/cross_validation.py:41: DeprecationWarning: This module was deprecated in version 0.18 in favor of the model_selection module into which all the refactored classes and functions are moved. Also note that the interface of the new CV iterators are different from that of this module. This module will be removed in 0.20.\n",
      "  \"This module will be removed in 0.20.\", DeprecationWarning)\n"
     ]
    },
    {
     "name": "stdout",
     "output_type": "stream",
     "text": [
      "Accuracy based on all the features: 0.7182286927509858\n",
      "Feature ranking:\n",
      "1. Stream4 (0.417318)\n",
      "2. Stream1 (0.319087)\n",
      "3. Stream2 (0.263594)\n",
      "4. Stream3 (0.000000)\n"
     ]
    },
    {
     "data": {
      "image/png": "[encoded data removed]",
      "text/plain": [
       "<matplotlib.figure.Figure at 0x1a21aa8f98>"
      ]
     },
     "metadata": {},
     "output_type": "display_data"
    }
   ],
   "source": [
    "from sklearn.cross_validation import train_test_split\n",
    "from sklearn.ensemble import RandomForestClassifier\n",
    "from sklearn import metrics\n",
    "\n",
    "X= df1[['Stream1','Stream2','Stream3','Stream4']]  \n",
    "y= df1['Overall']  \n",
    "X_train, X_test, y_train, y_test = train_test_split(X, y.astype('int'), train_size=0.60, random_state=100) # 60% training and 40% test\n",
    "clf=RandomForestClassifier(n_estimators=100, class_weight = 'balanced')\n",
    "clf.fit(X_train,y_train)\n",
    "y_pred=clf.predict(X_test)\n",
    "print(\"Accuracy based on all the features:\",metrics.accuracy_score(y_test, y_pred))\n",
    "#Calculating the importance of various features \n",
    "importances = clf.feature_importances_\n",
    "std = np.std([tree.feature_importances_ for tree in clf.estimators_],axis=0)\n",
    "indices = np.argsort(importances)[::-1]\n",
    "li = list(X_train)\n",
    "print(\"Feature ranking:\")\n",
    "for f in range(X_train.shape[1]):\n",
    "    print(\"%d. %s (%f)\" % (f + 1, li[indices[f]], importances[indices[f]]))\n",
    "plt.figure()\n",
    "plt.title(\"Feature importances:Graph1\")\n",
    "plt.bar(range(X_train.shape[1]), importances[indices],color=\"r\", yerr=std[indices], align=\"center\")\n",
    "plt.xticks(range(X_train.shape[1]), indices)\n",
    "plt.xlim([-1, X_train.shape[1]])\n",
    "plt.show()\n",
    "\n"
   ]
  },
  {
   "cell_type": "code",
   "execution_count": 23,
   "metadata": {},
   "outputs": [
    {
     "name": "stdout",
     "output_type": "stream",
     "text": [
      "Accuracy based on selected features[Stream1 and Stream4]: 0.6427054898392478\n",
      "Feature ranking:\n",
      "1. Stream4 (0.534492)\n",
      "2. Stream1 (0.465508)\n"
     ]
    },
    {
     "data": {
      "image/png": "[encoded data removed]",
      "text/plain": [
       "<matplotlib.figure.Figure at 0x1a21b80e48>"
      ]
     },
     "metadata": {},
     "output_type": "display_data"
    }
   ],
   "source": [
    "#Classification based on selected streams- Stream1 and Stream4 \n",
    "X= df1[['Stream1','Stream4']] \n",
    "y= df1['Overall']  \n",
    "X_train, X_test, y_train, y_test = train_test_split(X, y.astype('int'), train_size=0.60, random_state=100) # 60% training and 40% test\n",
    "clf1=RandomForestClassifier(n_estimators=100,class_weight = 'balanced')\n",
    "clf1.fit(X_train,y_train)\n",
    "y_pred=clf1.predict(X_test)\n",
    "print(\"Accuracy based on selected features[Stream1 and Stream4]:\",metrics.accuracy_score(y_test, y_pred))\n",
    "#Calculating the importance of various features \n",
    "importances = clf1.feature_importances_\n",
    "std = np.std([tree.feature_importances_ for tree in clf1.estimators_],axis=0)\n",
    "indices = np.argsort(importances)[::-1]\n",
    "li = list(X_train)\n",
    "print(\"Feature ranking:\")\n",
    "for f in range(X_train.shape[1]):\n",
    "    print(\"%d. %s (%f)\" % (f + 1, li[indices[f]], importances[indices[f]]))\n",
    "plt.figure()\n",
    "plt.title(\"Feature importances:Graph2\")\n",
    "plt.bar(range(X_train.shape[1]), importances[indices],color=\"r\", yerr=std[indices], align=\"center\")\n",
    "plt.xticks(range(X_train.shape[1]), indices)\n",
    "plt.xlim([-1, X_train.shape[1]])\n",
    "plt.show()\n"
   ]
  },
  {
   "cell_type": "code",
   "execution_count": 24,
   "metadata": {},
   "outputs": [
    {
     "name": "stdout",
     "output_type": "stream",
     "text": [
      "Accuracy based on selected features[Stream2 and Stream3]: 0.4470730967546254\n",
      "Feature ranking:Graph3\n",
      "1. Stream2 (1.000000)\n",
      "2. Stream3 (0.000000)\n"
     ]
    },
    {
     "data": {
      "image/png": "[encoded data removed]",
      "text/plain": [
       "<matplotlib.figure.Figure at 0x1a21c3be48>"
      ]
     },
     "metadata": {},
     "output_type": "display_data"
    }
   ],
   "source": [
    "#Classification based on selected streams- Stream2 and Stream3 \n",
    "X= df1[['Stream2','Stream3']] \n",
    "y= df1['Overall']  \n",
    "X_train, X_test, y_train, y_test = train_test_split(X, y.astype('int'), train_size=0.60, random_state=15) # 60% training and 40% test\n",
    "clf2=RandomForestClassifier(n_estimators=100,class_weight = 'balanced')\n",
    "clf2.fit(X_train,y_train)\n",
    "y_pred=clf2.predict(X_test)\n",
    "print(\"Accuracy based on selected features[Stream2 and Stream3]:\",metrics.accuracy_score(y_test, y_pred))\n",
    "#Calculating the importance of various features \n",
    "importances = clf2.feature_importances_\n",
    "std = np.std([tree.feature_importances_ for tree in clf2.estimators_],axis=0)\n",
    "indices = np.argsort(importances)[::-1]\n",
    "li = list(X_train)\n",
    "print(\"Feature ranking:Graph3\")\n",
    "for f in range(X_train.shape[1]):\n",
    "    print(\"%d. %s (%f)\" % (f + 1, li[indices[f]], importances[indices[f]]))\n",
    "plt.figure()\n",
    "plt.title(\"Feature importances\")\n",
    "plt.bar(range(X_train.shape[1]), importances[indices],color=\"r\", yerr=std[indices], align=\"center\")\n",
    "plt.xticks(range(X_train.shape[1]), indices)\n",
    "plt.xlim([-1, X_train.shape[1]])\n",
    "plt.show()\n"
   ]
  },
  {
   "cell_type": "markdown",
   "metadata": {},
   "source": [
    "                                     Classification using Logistic Regression"
   ]
  },
  {
   "cell_type": "code",
   "execution_count": 32,
   "metadata": {},
   "outputs": [],
   "source": [
    "#Shuffling the dataframe \n",
    "from sklearn.utils import shuffle\n",
    "from numpy import mean\n",
    "from numpy import std\n",
    "from pandas import read_csv\n",
    "from matplotlib import pyplot\n",
    "from sklearn.linear_model import LogisticRegression\n",
    "from sklearn.ensemble import RandomForestClassifier\n",
    "shuffled_df = shuffle(df1)"
   ]
  },
  {
   "cell_type": "code",
   "execution_count": 33,
   "metadata": {},
   "outputs": [
    {
     "name": "stdout",
     "output_type": "stream",
     "text": [
      "Accuracy of logistic regression classifier on test set with all the features: 0.7213\n"
     ]
    }
   ],
   "source": [
    "#When the feature set includes all the features:Stream1,2,3 and 4\n",
    "df_1 = shuffled_df[['Stream1', 'Stream2','Stream3','Stream4','Overall']].copy()\n",
    "train_x,train_y = df_1.iloc[:5000, :-1], df_1.iloc[:5000, -1].astype('int')\n",
    "test_x,test_y = df_1.iloc[5001:, :-1], df_1.iloc[5001:, -1].astype('int')\n",
    "classifier_LR = LogisticRegression(random_state=100,class_weight = 'balanced')\n",
    "classifier_LR.fit(train_x,train_y)\n",
    "y_pred1 = classifier_LR.predict(test_x)\n",
    "print('Accuracy of logistic regression classifier on test set with all the features: {:.4f}'.format(classifier_LR.score(df_1.iloc[5001:, :-1], df_1.iloc[5001:, -1].astype('int'))))\n",
    "\n"
   ]
  },
  {
   "cell_type": "code",
   "execution_count": 34,
   "metadata": {},
   "outputs": [
    {
     "name": "stdout",
     "output_type": "stream",
     "text": [
      "Accuracy of logistic regression classifier on test set with Stream1, Stream2 and Stream4: 0.7213\n"
     ]
    }
   ],
   "source": [
    "#When the feature set includes Stream1, Stream2 and Stream4 only and shuffling\n",
    "df_2 = shuffled_df[['Stream1','Stream2','Stream4','Overall']].copy()\n",
    "train_x,train_y = df_2.iloc[:5000, :-1], df_2.iloc[:5000, -1].astype('int')\n",
    "test_x,test_y = df_2.iloc[5001:, :-1], df_2.iloc[5001:, -1].astype('int')\n",
    "classifier_LR = LogisticRegression(random_state=100,class_weight = 'balanced')\n",
    "classifier_LR.fit(train_x,train_y)\n",
    "y_pred1 = classifier_LR.predict(test_x)\n",
    "print('Accuracy of logistic regression classifier on test set with Stream1, Stream2 and Stream4: {:.4f}'.format(classifier_LR.score(df_2.iloc[5001:, :-1], df_2.iloc[5001:, -1].astype('int'))))\n",
    "\n"
   ]
  },
  {
   "cell_type": "code",
   "execution_count": 35,
   "metadata": {},
   "outputs": [
    {
     "name": "stdout",
     "output_type": "stream",
     "text": [
      "Accuracy of logistic regression classifier on test set with Stream1 and Stream4: 0.6469\n"
     ]
    }
   ],
   "source": [
    "#When the feature set includes Stream1 and Stream4 only and shuffling\n",
    "df_3 = shuffled_df[['Stream1', 'Stream4','Overall']].copy()\n",
    "train_x,train_y = df_3.iloc[:5000, :-1], df_3.iloc[:5000, -1].astype('int')\n",
    "test_x,test_y = df_3.iloc[5001:, :-1], df_3.iloc[5001:, -1].astype('int')\n",
    "classifier_LR = LogisticRegression(random_state=100,class_weight = 'balanced')\n",
    "classifier_LR.fit(train_x,train_y)\n",
    "y_pred1 = classifier_LR.predict(test_x)\n",
    "print('Accuracy of logistic regression classifier on test set with Stream1 and Stream4: {:.4f}'.format(classifier_LR.score(df_3.iloc[5001:, :-1], df_3.iloc[5001:, -1].astype('int'))))\n",
    "\n"
   ]
  },
  {
   "cell_type": "code",
   "execution_count": 36,
   "metadata": {},
   "outputs": [
    {
     "name": "stdout",
     "output_type": "stream",
     "text": [
      "Accuracy of logistic regression classifier on test set with Stream2 and Stream3: 0.4420\n"
     ]
    }
   ],
   "source": [
    "#When the feature set includes Stream2 and Stream3 only\n",
    "df_4 = shuffled_df[['Stream2','Stream3','Overall']].copy()\n",
    "train_x,train_y = df_4.iloc[:5000, :-1], df_4.iloc[:5000, -1].astype('int')\n",
    "test_x,test_y = df_4.iloc[5001:, :-1], df_4.iloc[5001:, -1].astype('int')\n",
    "classifier_LR = LogisticRegression(random_state=100,class_weight = 'balanced')\n",
    "classifier_LR.fit(train_x,train_y)\n",
    "y_pred1 = classifier_LR.predict(test_x)\n",
    "print('Accuracy of logistic regression classifier on test set with Stream2 and Stream3: {:.4f}'.format(classifier_LR.score(df_4.iloc[5001:, :-1], df_4.iloc[5001:, -1].astype('int'))))\n",
    "\n"
   ]
  },
  {
   "cell_type": "code",
   "execution_count": 37,
   "metadata": {},
   "outputs": [
    {
     "name": "stdout",
     "output_type": "stream",
     "text": [
      "Accuracy of logistic regression classifier on test set with Stream2 and Stream4: 0.6333\n"
     ]
    }
   ],
   "source": [
    "#When the feature set includes Stream1 and Stream4 only and shuffling\n",
    "df_5 = shuffled_df[['Stream2', 'Stream4','Overall']].copy()\n",
    "train_x,train_y = df_5.iloc[:5000, :-1], df_5.iloc[:5000, -1].astype('int')\n",
    "test_x,test_y = df_5.iloc[5001:, :-1], df_5.iloc[5001:, -1].astype('int')\n",
    "classifier_LR = LogisticRegression(random_state=100,class_weight = 'balanced')\n",
    "classifier_LR.fit(train_x,train_y)\n",
    "y_pred1 = classifier_LR.predict(test_x)\n",
    "print('Accuracy of logistic regression classifier on test set with Stream2 and Stream4: {:.4f}'.format(classifier_LR.score(df_5.iloc[5001:, :-1], df_5.iloc[5001:, -1].astype('int'))))\n",
    "\n"
   ]
  },
  {
   "cell_type": "markdown",
   "metadata": {},
   "source": [
    "                         --------------------------------------------------------\n",
    "                         Conclusions based on the above classification techniques\n",
    "                         --------------------------------------------------------"
   ]
  },
  {
   "cell_type": "markdown",
   "metadata": {},
   "source": [
    "<p style='text-align: justify;'>Based on the above Feature Importance Graphs-1,2 and 3 and accuracies from **Logistic Regression, Random Forest classifier**:</p>\n",
    "<p style='text-align: justify;'>\n",
    "1. As evident from cells In[143] and In[144]: Overall is dependent on Stream1(Node1), Stream2(Node2) and Stream4(Node4).<br><br>\n",
    "2. As evident from cell In[144]: Overall is completely independent of Stream3(Node3) because removal of Stream3 from the data did not affect the model accuracy at all.<br><br>\n",
    "3. As evident from cell In[114] and feature importance graphs1,2,and 3: Overall is **majorly** dependent on Stream4(Node4).<br><br>\n",
    "4. As evident from cells In[144], In[147] and feature importance graph1: Node1 and Node2 are contributing equally in Overall. Previously, data exploration and prediction led me to believe that Node2 is rendered redundant by Node1 and thus, removing Node2 would not cost any significant loss. But, after analysing the above classification results, it is clear that excluding Node2 would lead to an 8% decrease in accuracy.<br><br></p>\n",
    "\n"
   ]
  },
  {
   "cell_type": "code",
   "execution_count": null,
   "metadata": {},
   "outputs": [],
   "source": []
  }
 ],
 "metadata": {
  "kernelspec": {
   "display_name": "Python 3",
   "language": "python",
   "name": "python3"
  },
  "language_info": {
   "codemirror_mode": {
    "name": "ipython",
    "version": 3
   },
   "file_extension": ".py",
   "mimetype": "text/x-python",
   "name": "python",
   "nbconvert_exporter": "python",
   "pygments_lexer": "ipython3",
   "version": "3.6.8"
  }
 },
 "nbformat": 4,
 "nbformat_minor": 2
}
